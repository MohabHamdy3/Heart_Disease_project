{
 "cells": [
  {
   "cell_type": "markdown",
   "id": "6a947b94",
   "metadata": {},
   "source": [
    "<h1>Hyperparameter Tuning</h1>"
   ]
  },
  {
   "cell_type": "code",
   "execution_count": null,
   "id": "2b0ea6a5",
   "metadata": {},
   "outputs": [],
   "source": [
    "import pandas as pd\n",
    "import numpy as np\n",
    "import matplotlib.pyplot as plt\n",
    "import seaborn as sns\n",
    "from sklearn.model_selection import GridSearchCV, RandomizedSearchCV\n",
    "from sklearn.linear_model import LogisticRegression\n",
    "from sklearn.tree import DecisionTreeClassifier\n",
    "from sklearn.ensemble import RandomForestClassifier\n",
    "from sklearn.svm import SVC\n",
    "from scipy.stats import uniform\n",
    "from sklearn.metrics import accuracy_score, precision_score, recall_score, f1_score, roc_auc_score\\\n"
   ]
  },
  {
   "cell_type": "code",
   "execution_count": 3,
   "id": "fc19a499",
   "metadata": {},
   "outputs": [],
   "source": [
    "# load the dataset\n",
    "df = pd.read_csv('../data/heart_disease_cleaned.csv')"
   ]
  },
  {
   "cell_type": "code",
   "execution_count": 6,
   "id": "f460b3be",
   "metadata": {},
   "outputs": [],
   "source": [
    "X = df.drop('target', axis=1)\n",
    "y = df['target']"
   ]
  },
  {
   "cell_type": "code",
   "execution_count": 7,
   "id": "efa5be55",
   "metadata": {},
   "outputs": [],
   "source": [
    "from sklearn.model_selection import train_test_split\n",
    "X_train, X_test, y_train, y_test = train_test_split(X, y, test_size=0.2, random_state=42)"
   ]
  },
  {
   "cell_type": "code",
   "execution_count": 4,
   "id": "2144d5de",
   "metadata": {},
   "outputs": [],
   "source": [
    "# make a function to evaluate model\n",
    "def evaluate_model(name , model , X_train , X_test , y_train , y_test):\n",
    "    y_pred = model.predict(X_test)\n",
    "    if hasattr(model, \"predict_proba\"):\n",
    "        y_proba = model.predict_proba(X_test)[:, 1]\n",
    "    else:\n",
    "        y_proba = None\n",
    "    return {\n",
    "        \"model\": name,\n",
    "        \"accuracy\": accuracy_score(y_test, y_pred),\n",
    "        \"precision\": precision_score(y_test, y_pred),\n",
    "        \"recall\": recall_score(y_test, y_pred),\n",
    "        \"f1\": f1_score(y_test, y_pred),\n",
    "        \"roc_auc\": roc_auc_score(y_test, y_proba) if y_proba is not None else None\n",
    "    }"
   ]
  },
  {
   "cell_type": "code",
   "execution_count": 5,
   "id": "ec3e7b4e",
   "metadata": {},
   "outputs": [],
   "source": [
    "results = []"
   ]
  },
  {
   "cell_type": "markdown",
   "id": "917180ba",
   "metadata": {},
   "source": [
    "<h3>Logistic Regression</h3>"
   ]
  },
  {
   "cell_type": "code",
   "execution_count": 9,
   "id": "d6f1dc29",
   "metadata": {},
   "outputs": [],
   "source": [
    "baseline_lr = LogisticRegression(max_iter=5000 , random_state=42).fit(X_train , y_train)\n",
    "results.append({**evaluate_model(\"Logistic Regression (Baseline)\", baseline_lr, X_train, X_test, y_train, y_test), \"Best Params\": \"Default\"})\n"
   ]
  },
  {
   "cell_type": "code",
   "execution_count": 12,
   "id": "c38c1eca",
   "metadata": {},
   "outputs": [],
   "source": [
    "param_dist = {\n",
    "    \"C\": uniform(0.01, 10),\n",
    "    \"penalty\": [\"l1\", \"l2\"],\n",
    "    \"solver\": [\"saga\", \"liblinear\"]\n",
    "}"
   ]
  },
  {
   "cell_type": "code",
   "execution_count": 13,
   "id": "416c2bce",
   "metadata": {},
   "outputs": [],
   "source": [
    "random_search = RandomizedSearchCV(LogisticRegression(max_iter=5000, random_state=42),\n",
    "                                   param_distributions=param_dist,\n",
    "                                   n_iter=20, cv=5, scoring=\"accuracy\", n_jobs=-1, random_state=42)\n",
    "random_search.fit(X_train, y_train)\n",
    "best_lr = random_search.best_estimator_\n",
    "results.append({**evaluate_model(\"Logistic Regression (Randomized Search)\", best_lr, X_train, X_test, y_train, y_test), \"Best Params\": random_search.best_params_})"
   ]
  },
  {
   "cell_type": "markdown",
   "id": "fb785ea5",
   "metadata": {},
   "source": [
    "<h3>Decision Tree</h3>"
   ]
  },
  {
   "cell_type": "code",
   "execution_count": 14,
   "id": "a0fb84bd",
   "metadata": {},
   "outputs": [],
   "source": [
    "baseline_dt = DecisionTreeClassifier(random_state=42).fit(X_train , y_train)\n",
    "results.append({**evaluate_model(\"Decision Tree (Baseline)\", baseline_dt, X_train, X_test, y_train, y_test), \"Best Params\": \"Default\"})\n"
   ]
  },
  {
   "cell_type": "code",
   "execution_count": 15,
   "id": "2a532fbf",
   "metadata": {},
   "outputs": [],
   "source": [
    "param_grid = {\n",
    "    \"max_depth\": [3, 5, 7, 10, None],\n",
    "    \"min_samples_split\": [2, 5, 10],\n",
    "    \"min_samples_leaf\": [1, 2, 4],\n",
    "    \"criterion\": [\"gini\", \"entropy\"]\n",
    "}"
   ]
  },
  {
   "cell_type": "code",
   "execution_count": 16,
   "id": "967dd5b7",
   "metadata": {},
   "outputs": [],
   "source": [
    "grid_search = GridSearchCV(DecisionTreeClassifier(random_state=42),\n",
    "                           param_grid=param_grid,\n",
    "                           cv=5, scoring=\"accuracy\", n_jobs=-1)\n",
    "grid_search.fit(X_train, y_train)\n",
    "best_dt = grid_search.best_estimator_\n",
    "results.append({**evaluate_model(\"Decision Tree (Grid Search)\", best_dt, X_train, X_test, y_train, y_test), \"Best Params\": grid_search.best_params_})"
   ]
  },
  {
   "cell_type": "markdown",
   "id": "2773d408",
   "metadata": {},
   "source": [
    "<h3>Random Forest</h3>"
   ]
  },
  {
   "cell_type": "code",
   "execution_count": 17,
   "id": "7193a21a",
   "metadata": {},
   "outputs": [],
   "source": [
    "baseline_rf = RandomForestClassifier(random_state=42).fit(X_train , y_train)\n",
    "results.append({**evaluate_model(\"Random Forest (Baseline)\", baseline_rf, X_train, X_test, y_train, y_test), \"Best Params\": \"Default\"})"
   ]
  },
  {
   "cell_type": "code",
   "execution_count": 18,
   "id": "0701df27",
   "metadata": {},
   "outputs": [],
   "source": [
    "param_grid = {\n",
    "    \"n_estimators\": [100, 200, 300],\n",
    "    \"max_depth\": [None, 5, 10, 20],\n",
    "    \"min_samples_split\": [2, 5, 10],\n",
    "    \"min_samples_leaf\": [1, 2, 4],\n",
    "    \"bootstrap\": [True, False]\n",
    "}"
   ]
  },
  {
   "cell_type": "code",
   "execution_count": 19,
   "id": "1a3df194",
   "metadata": {},
   "outputs": [],
   "source": [
    "grid_search = GridSearchCV(RandomForestClassifier(random_state=42),\n",
    "                           param_grid=param_grid,\n",
    "                           cv=5, scoring=\"accuracy\", n_jobs=-1)\n",
    "grid_search.fit(X_train, y_train)\n",
    "best_rf = grid_search.best_estimator_\n",
    "results.append({**evaluate_model(\"Random Forest (Grid Search)\", best_rf, X_train, X_test, y_train, y_test), \"Best Params\": grid_search.best_params_})"
   ]
  },
  {
   "cell_type": "markdown",
   "id": "4ed76120",
   "metadata": {},
   "source": [
    "<h3>SVM</h3>"
   ]
  },
  {
   "cell_type": "code",
   "execution_count": 20,
   "id": "dc7887b1",
   "metadata": {},
   "outputs": [],
   "source": [
    "baseline_svm = SVC(random_state=42).fit(X_train , y_train)\n",
    "results.append({**evaluate_model(\"Support Vector Machine (Baseline)\", baseline_svm, X_train, X_test, y_train, y_test), \"Best Params\": \"Default\"})"
   ]
  },
  {
   "cell_type": "code",
   "execution_count": 21,
   "id": "33bf2c2c",
   "metadata": {},
   "outputs": [],
   "source": [
    "param_grid = {\n",
    "    \"C\": [0.1, 1, 10],\n",
    "    \"kernel\": [\"linear\", \"rbf\", \"sigmoid\"],\n",
    "    \"gamma\": [\"scale\", \"auto\"]\n",
    "}"
   ]
  },
  {
   "cell_type": "code",
   "execution_count": 22,
   "id": "83d418ad",
   "metadata": {},
   "outputs": [],
   "source": [
    "grid_search = GridSearchCV(SVC(random_state=42),\n",
    "                           param_grid=param_grid,\n",
    "                           cv=5, scoring=\"accuracy\", n_jobs=-1)\n",
    "grid_search.fit(X_train, y_train)\n",
    "best_svm = grid_search.best_estimator_\n",
    "results.append({**evaluate_model(\"Support Vector Machine (Grid Search)\", best_svm, X_train, X_test, y_train, y_test), \"Best Params\": grid_search.best_params_})"
   ]
  },
  {
   "cell_type": "code",
   "execution_count": null,
   "id": "c4ebc4d2",
   "metadata": {},
   "outputs": [
    {
     "data": {
      "text/plain": [
       "[{'model': 'Random Forest (Baseline)',\n",
       "  'accuracy': 0.8532608695652174,\n",
       "  'precision': 0.8867924528301887,\n",
       "  'recall': 0.8623853211009175,\n",
       "  'f1': 0.8744186046511628,\n",
       "  'roc_auc': np.float64(0.9014678899082569),\n",
       "  'Best Params': 'Default'},\n",
       " {'model': 'Support Vector Machine (Baseline)',\n",
       "  'accuracy': 0.8369565217391305,\n",
       "  'precision': 0.8623853211009175,\n",
       "  'recall': 0.8623853211009175,\n",
       "  'f1': 0.8623853211009175,\n",
       "  'roc_auc': None,\n",
       "  'Best Params': 'Default'},\n",
       " {'model': 'Random Forest (Grid Search)',\n",
       "  'accuracy': 0.8260869565217391,\n",
       "  'precision': 0.8666666666666667,\n",
       "  'recall': 0.8348623853211009,\n",
       "  'f1': 0.8504672897196262,\n",
       "  'roc_auc': np.float64(0.9081345565749236),\n",
       "  'Best Params': {'bootstrap': True,\n",
       "   'max_depth': 5,\n",
       "   'min_samples_leaf': 2,\n",
       "   'min_samples_split': 5,\n",
       "   'n_estimators': 100}},\n",
       " {'model': 'Logistic Regression (Baseline)',\n",
       "  'accuracy': 0.8152173913043478,\n",
       "  'precision': 0.8504672897196262,\n",
       "  'recall': 0.8348623853211009,\n",
       "  'f1': 0.8425925925925926,\n",
       "  'roc_auc': np.float64(0.8959021406727828),\n",
       "  'Best Params': 'Default'},\n",
       " {'model': 'Logistic Regression (Randomized Search)',\n",
       "  'accuracy': 0.8152173913043478,\n",
       "  'precision': 0.8504672897196262,\n",
       "  'recall': 0.8348623853211009,\n",
       "  'f1': 0.8425925925925926,\n",
       "  'roc_auc': np.float64(0.8956574923547401),\n",
       "  'Best Params': {'C': np.float64(0.916064345328208),\n",
       "   'penalty': 'l2',\n",
       "   'solver': 'saga'}},\n",
       " {'model': 'Logistic Regression (Randomized Search)',\n",
       "  'accuracy': 0.8097826086956522,\n",
       "  'precision': 0.8425925925925926,\n",
       "  'recall': 0.8348623853211009,\n",
       "  'f1': 0.8387096774193549,\n",
       "  'roc_auc': np.float64(0.8954128440366973),\n",
       "  'Best Params': {'C': np.float64(1.5701864044243652),\n",
       "   'penalty': 'l1',\n",
       "   'solver': 'saga'}},\n",
       " {'model': 'Support Vector Machine (Grid Search)',\n",
       "  'accuracy': 0.7989130434782609,\n",
       "  'precision': 0.8333333333333334,\n",
       "  'recall': 0.8256880733944955,\n",
       "  'f1': 0.8294930875576036,\n",
       "  'roc_auc': None,\n",
       "  'Best Params': {'C': 10, 'gamma': 'scale', 'kernel': 'linear'}},\n",
       " {'model': 'Decision Tree (Grid Search)',\n",
       "  'accuracy': 0.7934782608695652,\n",
       "  'precision': 0.8256880733944955,\n",
       "  'recall': 0.8256880733944955,\n",
       "  'f1': 0.8256880733944955,\n",
       "  'roc_auc': np.float64(0.8257492354740061),\n",
       "  'Best Params': {'criterion': 'entropy',\n",
       "   'max_depth': 5,\n",
       "   'min_samples_leaf': 4,\n",
       "   'min_samples_split': 2}},\n",
       " {'model': 'Decision Tree (Baseline)',\n",
       "  'accuracy': 0.7663043478260869,\n",
       "  'precision': 0.8235294117647058,\n",
       "  'recall': 0.7706422018348624,\n",
       "  'f1': 0.7962085308056872,\n",
       "  'roc_auc': np.float64(0.7653211009174312),\n",
       "  'Best Params': 'Default'}]"
      ]
     },
     "execution_count": 26,
     "metadata": {},
     "output_type": "execute_result"
    }
   ],
   "source": [
    "results.sort(key=lambda x: x[\"accuracy\"], reverse=True)\n",
    "results"
   ]
  },
  {
   "cell_type": "code",
   "execution_count": 27,
   "id": "e08fbf7b",
   "metadata": {},
   "outputs": [
    {
     "data": {
      "text/html": [
       "<div>\n",
       "<style scoped>\n",
       "    .dataframe tbody tr th:only-of-type {\n",
       "        vertical-align: middle;\n",
       "    }\n",
       "\n",
       "    .dataframe tbody tr th {\n",
       "        vertical-align: top;\n",
       "    }\n",
       "\n",
       "    .dataframe thead th {\n",
       "        text-align: right;\n",
       "    }\n",
       "</style>\n",
       "<table border=\"1\" class=\"dataframe\">\n",
       "  <thead>\n",
       "    <tr style=\"text-align: right;\">\n",
       "      <th></th>\n",
       "      <th>model</th>\n",
       "      <th>accuracy</th>\n",
       "      <th>precision</th>\n",
       "      <th>recall</th>\n",
       "      <th>f1</th>\n",
       "      <th>roc_auc</th>\n",
       "      <th>Best Params</th>\n",
       "    </tr>\n",
       "  </thead>\n",
       "  <tbody>\n",
       "    <tr>\n",
       "      <th>0</th>\n",
       "      <td>Random Forest (Baseline)</td>\n",
       "      <td>0.853261</td>\n",
       "      <td>0.886792</td>\n",
       "      <td>0.862385</td>\n",
       "      <td>0.874419</td>\n",
       "      <td>0.901468</td>\n",
       "      <td>Default</td>\n",
       "    </tr>\n",
       "    <tr>\n",
       "      <th>1</th>\n",
       "      <td>Support Vector Machine (Baseline)</td>\n",
       "      <td>0.836957</td>\n",
       "      <td>0.862385</td>\n",
       "      <td>0.862385</td>\n",
       "      <td>0.862385</td>\n",
       "      <td>NaN</td>\n",
       "      <td>Default</td>\n",
       "    </tr>\n",
       "    <tr>\n",
       "      <th>2</th>\n",
       "      <td>Random Forest (Grid Search)</td>\n",
       "      <td>0.826087</td>\n",
       "      <td>0.866667</td>\n",
       "      <td>0.834862</td>\n",
       "      <td>0.850467</td>\n",
       "      <td>0.908135</td>\n",
       "      <td>{'bootstrap': True, 'max_depth': 5, 'min_sampl...</td>\n",
       "    </tr>\n",
       "    <tr>\n",
       "      <th>3</th>\n",
       "      <td>Logistic Regression (Baseline)</td>\n",
       "      <td>0.815217</td>\n",
       "      <td>0.850467</td>\n",
       "      <td>0.834862</td>\n",
       "      <td>0.842593</td>\n",
       "      <td>0.895902</td>\n",
       "      <td>Default</td>\n",
       "    </tr>\n",
       "    <tr>\n",
       "      <th>4</th>\n",
       "      <td>Logistic Regression (Randomized Search)</td>\n",
       "      <td>0.815217</td>\n",
       "      <td>0.850467</td>\n",
       "      <td>0.834862</td>\n",
       "      <td>0.842593</td>\n",
       "      <td>0.895657</td>\n",
       "      <td>{'C': 0.916064345328208, 'penalty': 'l2', 'sol...</td>\n",
       "    </tr>\n",
       "    <tr>\n",
       "      <th>5</th>\n",
       "      <td>Logistic Regression (Randomized Search)</td>\n",
       "      <td>0.809783</td>\n",
       "      <td>0.842593</td>\n",
       "      <td>0.834862</td>\n",
       "      <td>0.838710</td>\n",
       "      <td>0.895413</td>\n",
       "      <td>{'C': 1.5701864044243652, 'penalty': 'l1', 'so...</td>\n",
       "    </tr>\n",
       "    <tr>\n",
       "      <th>6</th>\n",
       "      <td>Support Vector Machine (Grid Search)</td>\n",
       "      <td>0.798913</td>\n",
       "      <td>0.833333</td>\n",
       "      <td>0.825688</td>\n",
       "      <td>0.829493</td>\n",
       "      <td>NaN</td>\n",
       "      <td>{'C': 10, 'gamma': 'scale', 'kernel': 'linear'}</td>\n",
       "    </tr>\n",
       "    <tr>\n",
       "      <th>7</th>\n",
       "      <td>Decision Tree (Grid Search)</td>\n",
       "      <td>0.793478</td>\n",
       "      <td>0.825688</td>\n",
       "      <td>0.825688</td>\n",
       "      <td>0.825688</td>\n",
       "      <td>0.825749</td>\n",
       "      <td>{'criterion': 'entropy', 'max_depth': 5, 'min_...</td>\n",
       "    </tr>\n",
       "    <tr>\n",
       "      <th>8</th>\n",
       "      <td>Decision Tree (Baseline)</td>\n",
       "      <td>0.766304</td>\n",
       "      <td>0.823529</td>\n",
       "      <td>0.770642</td>\n",
       "      <td>0.796209</td>\n",
       "      <td>0.765321</td>\n",
       "      <td>Default</td>\n",
       "    </tr>\n",
       "  </tbody>\n",
       "</table>\n",
       "</div>"
      ],
      "text/plain": [
       "                                     model  accuracy  precision    recall  \\\n",
       "0                 Random Forest (Baseline)  0.853261   0.886792  0.862385   \n",
       "1        Support Vector Machine (Baseline)  0.836957   0.862385  0.862385   \n",
       "2              Random Forest (Grid Search)  0.826087   0.866667  0.834862   \n",
       "3           Logistic Regression (Baseline)  0.815217   0.850467  0.834862   \n",
       "4  Logistic Regression (Randomized Search)  0.815217   0.850467  0.834862   \n",
       "5  Logistic Regression (Randomized Search)  0.809783   0.842593  0.834862   \n",
       "6     Support Vector Machine (Grid Search)  0.798913   0.833333  0.825688   \n",
       "7              Decision Tree (Grid Search)  0.793478   0.825688  0.825688   \n",
       "8                 Decision Tree (Baseline)  0.766304   0.823529  0.770642   \n",
       "\n",
       "         f1   roc_auc                                        Best Params  \n",
       "0  0.874419  0.901468                                            Default  \n",
       "1  0.862385       NaN                                            Default  \n",
       "2  0.850467  0.908135  {'bootstrap': True, 'max_depth': 5, 'min_sampl...  \n",
       "3  0.842593  0.895902                                            Default  \n",
       "4  0.842593  0.895657  {'C': 0.916064345328208, 'penalty': 'l2', 'sol...  \n",
       "5  0.838710  0.895413  {'C': 1.5701864044243652, 'penalty': 'l1', 'so...  \n",
       "6  0.829493       NaN    {'C': 10, 'gamma': 'scale', 'kernel': 'linear'}  \n",
       "7  0.825688  0.825749  {'criterion': 'entropy', 'max_depth': 5, 'min_...  \n",
       "8  0.796209  0.765321                                            Default  "
      ]
     },
     "execution_count": 27,
     "metadata": {},
     "output_type": "execute_result"
    }
   ],
   "source": [
    "results_df = pd.DataFrame(results).sort_values(\"accuracy\", ascending=False)\n",
    "results_df"
   ]
  }
 ],
 "metadata": {
  "kernelspec": {
   "display_name": "base",
   "language": "python",
   "name": "python3"
  },
  "language_info": {
   "codemirror_mode": {
    "name": "ipython",
    "version": 3
   },
   "file_extension": ".py",
   "mimetype": "text/x-python",
   "name": "python",
   "nbconvert_exporter": "python",
   "pygments_lexer": "ipython3",
   "version": "3.13.5"
  }
 },
 "nbformat": 4,
 "nbformat_minor": 5
}
